{
 "cells": [
  {
   "cell_type": "markdown",
   "id": "da23b2fd",
   "metadata": {},
   "source": [
    "# Python ile Programlama\n",
    "\n",
    "### 26 Kasım 2022\n",
    "\n",
    "## Değişkenler, Sabitler, Veri Tipleri I, Girdi ve Çıktı"
   ]
  },
  {
   "cell_type": "code",
   "execution_count": 2,
   "id": "a0074918",
   "metadata": {},
   "outputs": [
    {
     "data": {
      "text/plain": [
       "15"
      ]
     },
     "execution_count": 2,
     "metadata": {},
     "output_type": "execute_result"
    }
   ],
   "source": [
    "15 #Tam sayı"
   ]
  },
  {
   "cell_type": "code",
   "execution_count": 3,
   "id": "9542cd16",
   "metadata": {},
   "outputs": [
    {
     "data": {
      "text/plain": [
       "15.5"
      ]
     },
     "execution_count": 3,
     "metadata": {},
     "output_type": "execute_result"
    }
   ],
   "source": [
    "15.5 # Ondalıklı Sayı"
   ]
  },
  {
   "cell_type": "code",
   "execution_count": 7,
   "id": "9d3fa405",
   "metadata": {},
   "outputs": [
    {
     "data": {
      "text/plain": [
       "4398743297243023703218724782309723072303216473943974629137613087303356172182612851285218125821512852732021709214730192127905381358158151851813518518184511548514"
      ]
     },
     "execution_count": 7,
     "metadata": {},
     "output_type": "execute_result"
    }
   ],
   "source": [
    "4398743297243023703218724782309723072303216473943974629137613087303356172182612851285218125821512852732021709214730192127905381358158151851813518518184511548514"
   ]
  },
  {
   "cell_type": "code",
   "execution_count": 9,
   "id": "80a928d7",
   "metadata": {},
   "outputs": [
    {
     "data": {
      "text/plain": [
       "(35+1j)"
      ]
     },
     "execution_count": 9,
     "metadata": {},
     "output_type": "execute_result"
    }
   ],
   "source": [
    "35+1j #Kompleks Sayı"
   ]
  },
  {
   "cell_type": "code",
   "execution_count": 10,
   "id": "0a43a1a0",
   "metadata": {},
   "outputs": [],
   "source": [
    "gun = 26\n",
    "ay = 11\n",
    "yil = 2022"
   ]
  },
  {
   "cell_type": "code",
   "execution_count": 11,
   "id": "949b0503",
   "metadata": {},
   "outputs": [
    {
     "data": {
      "text/plain": [
       "26"
      ]
     },
     "execution_count": 11,
     "metadata": {},
     "output_type": "execute_result"
    }
   ],
   "source": [
    "gun"
   ]
  },
  {
   "cell_type": "markdown",
   "id": "b88fc2ad",
   "metadata": {},
   "source": [
    "Değişkenler\n",
    "- harfler ile baslar\n",
    "- Boşluk karakteri kullanılmaz\n",
    "- _ kullanılabilir\n",
    "- 0-9 arası rakam kullanılabilir\n",
    "- Türkçe Karakter kullanılabilir.\n",
    "- Anahtar sözcükler kullanılamaz (not)\n"
   ]
  },
  {
   "cell_type": "code",
   "execution_count": 15,
   "id": "5d6a5cb5",
   "metadata": {},
   "outputs": [],
   "source": [
    "dogum_gunu = 26\n",
    "a = 11\n",
    "y = 2022\n",
    "Dogum_gunu = 27"
   ]
  },
  {
   "cell_type": "code",
   "execution_count": null,
   "id": "d19e45fd",
   "metadata": {},
   "outputs": [],
   "source": [
    "gun1 = 26\n",
    "gun2 = 27"
   ]
  },
  {
   "cell_type": "code",
   "execution_count": 16,
   "id": "d549f585",
   "metadata": {},
   "outputs": [
    {
     "data": {
      "text/plain": [
       "26"
      ]
     },
     "execution_count": 16,
     "metadata": {},
     "output_type": "execute_result"
    }
   ],
   "source": [
    "dogum_gunu"
   ]
  },
  {
   "cell_type": "code",
   "execution_count": 17,
   "id": "8bde027c",
   "metadata": {},
   "outputs": [
    {
     "data": {
      "text/plain": [
       "27"
      ]
     },
     "execution_count": 17,
     "metadata": {},
     "output_type": "execute_result"
    }
   ],
   "source": [
    "Dogum_gunu"
   ]
  },
  {
   "cell_type": "code",
   "execution_count": 18,
   "id": "4ea76855",
   "metadata": {},
   "outputs": [
    {
     "data": {
      "text/plain": [
       "'Murat Gezer'"
      ]
     },
     "execution_count": 18,
     "metadata": {},
     "output_type": "execute_result"
    }
   ],
   "source": [
    "\"Murat Gezer\""
   ]
  },
  {
   "cell_type": "code",
   "execution_count": 20,
   "id": "babe2e29",
   "metadata": {},
   "outputs": [
    {
     "data": {
      "text/plain": [
       "'Murat Gezer'"
      ]
     },
     "execution_count": 20,
     "metadata": {},
     "output_type": "execute_result"
    }
   ],
   "source": [
    "'Murat Gezer'"
   ]
  },
  {
   "cell_type": "markdown",
   "id": "f86f94ba",
   "metadata": {},
   "source": [
    "Veri tiplerim\n",
    "\n",
    "#### Sayısal Veri tiplerim var \n",
    "- Tam Sayılar (integer)\n",
    "- Ondalıklı Sayılar (floating point)\n",
    "- Karmaşık Sayılar (Complex Number)\n",
    "#### Metinsel veri tipleri\n",
    "- Karakter dizileri (string)"
   ]
  },
  {
   "cell_type": "markdown",
   "id": "0ca0deff",
   "metadata": {},
   "source": [
    "## Girdi ve Çıktı \n",
    "\n",
    "### print fonksiyonu"
   ]
  },
  {
   "cell_type": "code",
   "execution_count": 5,
   "id": "9f0c102a",
   "metadata": {},
   "outputs": [],
   "source": [
    "yil = 2022 # Tam Sayı değişken\n",
    "okul_adi = \"İstanbul Üniversitesi\" # string değişken\n"
   ]
  },
  {
   "cell_type": "code",
   "execution_count": 7,
   "id": "4b8f8603",
   "metadata": {},
   "outputs": [
    {
     "name": "stdout",
     "output_type": "stream",
     "text": [
      "2022 yılındayız ve İstanbul Üniversitesi  Öğrencisiyiz\n"
     ]
    }
   ],
   "source": [
    "print(yil, \"yılındayız\",\"ve\", okul_adi,\" Öğrencisiyiz\")"
   ]
  },
  {
   "cell_type": "markdown",
   "id": "49ca76fd",
   "metadata": {},
   "source": [
    "## print kullanımı\n",
    "print(değer1,değer2,değer3,değer4,.....)"
   ]
  },
  {
   "cell_type": "code",
   "execution_count": 11,
   "id": "f9c8eb30",
   "metadata": {},
   "outputs": [
    {
     "name": "stdout",
     "output_type": "stream",
     "text": [
      "2022 yılındayız ve İstanbul Üniversitesi öğrencisiyiz\n"
     ]
    }
   ],
   "source": [
    "print(\"{0} yılındayız ve {1} öğrencisiyiz\".format(yil,okul_adi))"
   ]
  },
  {
   "cell_type": "markdown",
   "id": "a28b7874",
   "metadata": {},
   "source": [
    "string yapılar tanımlanırken \"\" veya '' olmak üzere kullanılır.\n"
   ]
  },
  {
   "cell_type": "code",
   "execution_count": 13,
   "id": "6071badb",
   "metadata": {},
   "outputs": [
    {
     "data": {
      "text/plain": [
       "'Python programlama dili Guido Van Rossum\\nadlı Hollandalı bir programcı tarafından 90’lı\\nyılların başında geliştirilmeye başlanmıştır. Çoğu\\ninsan, isminin Python olmasına bakarak, bu programlama\\ndilinin, adını piton yılanından aldığını düşünür.\\nAncak zannedildiğinin aksine bu programlama dilinin\\nadı piton yılanından gelmez.'"
      ]
     },
     "execution_count": 13,
     "metadata": {},
     "output_type": "execute_result"
    }
   ],
   "source": [
    "\"\"\"Python programlama dili Guido Van Rossum\n",
    "adlı Hollandalı bir programcı tarafından 90’lı\n",
    "yılların başında geliştirilmeye başlanmıştır. Çoğu\n",
    "insan, isminin Python olmasına bakarak, bu programlama\n",
    "dilinin, adını piton yılanından aldığını düşünür.\n",
    "Ancak zannedildiğinin aksine bu programlama dilinin\n",
    "adı piton yılanından gelmez.\"\"\""
   ]
  },
  {
   "cell_type": "markdown",
   "id": "29a67f6c",
   "metadata": {},
   "source": [
    "### Kaçış karakterleri\n",
    "- \\n -> Satır başı \n",
    "- \\t -> tab tuşu kadar ileriye git\n",
    "- \\r -> satır başına al\n"
   ]
  },
  {
   "cell_type": "code",
   "execution_count": 25,
   "id": "e2ec1a61",
   "metadata": {},
   "outputs": [
    {
     "name": "stdout",
     "output_type": "stream",
     "text": [
      "Merhaba\r",
      "Dünya \n",
      "Ben Murat\n"
     ]
    }
   ],
   "source": [
    "print(\"Merhaba\\rDünya\",\"\\nBen Murat\")\n"
   ]
  },
  {
   "cell_type": "markdown",
   "id": "e7908c15",
   "metadata": {},
   "source": [
    "## Kullanıcıdan Bilgi Almak\n",
    "### input fonksiyonu"
   ]
  },
  {
   "cell_type": "code",
   "execution_count": 27,
   "id": "24fd29e7",
   "metadata": {},
   "outputs": [
    {
     "name": "stdout",
     "output_type": "stream",
     "text": [
      "Lütfen Adınızı girinizMurat\n"
     ]
    }
   ],
   "source": [
    "ad = input(\"Lütfen Adınızı giriniz\")"
   ]
  },
  {
   "cell_type": "code",
   "execution_count": 28,
   "id": "08d3a545",
   "metadata": {},
   "outputs": [
    {
     "name": "stdout",
     "output_type": "stream",
     "text": [
      "Murat\n"
     ]
    }
   ],
   "source": [
    "print(ad)"
   ]
  },
  {
   "cell_type": "code",
   "execution_count": null,
   "id": "25c1740d",
   "metadata": {},
   "outputs": [],
   "source": []
  }
 ],
 "metadata": {
  "kernelspec": {
   "display_name": "Python 3.10 (dm)",
   "language": "python",
   "name": "dm"
  },
  "language_info": {
   "codemirror_mode": {
    "name": "ipython",
    "version": 3
   },
   "file_extension": ".py",
   "mimetype": "text/x-python",
   "name": "python",
   "nbconvert_exporter": "python",
   "pygments_lexer": "ipython3",
   "version": "3.10.8"
  }
 },
 "nbformat": 4,
 "nbformat_minor": 5
}
