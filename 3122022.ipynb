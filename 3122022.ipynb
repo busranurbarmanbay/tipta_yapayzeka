{
 "cells": [
  {
   "cell_type": "markdown",
   "id": "84b54f99",
   "metadata": {},
   "source": [
    "<img src=\"SIRS-sepsis-septik-sok.jpg\">\n",
    "\n",
    "\n",
    "SIRS(Systemic Inflammatory Response Syndrome) İnfeksiyon ya da infeksiyon dışı (otoimmün hastalıklar, pankreatit, vaskülit, tromboembolism, yanıklar, cerrahi girişim sonrası) nedenlerle gelişen sistemik inflamasyon yanıtına denir."
   ]
  },
  {
   "cell_type": "code",
   "execution_count": 1,
   "id": "878f3945",
   "metadata": {},
   "outputs": [
    {
     "name": "stdout",
     "output_type": "stream",
     "text": [
      "SIRS hesaplayıcı\n"
     ]
    }
   ],
   "source": [
    "print(\"SIRS hesaplayıcı\")\n",
    "SIRS_SKOR = 0"
   ]
  },
  {
   "cell_type": "code",
   "execution_count": 2,
   "id": "6cdde2c7",
   "metadata": {},
   "outputs": [
    {
     "name": "stdout",
     "output_type": "stream",
     "text": [
      "Hastanın ateşi nedir38.3\n"
     ]
    }
   ],
   "source": [
    "while True: \n",
    "    temp = input(\"Hastanın ateşi nedir\")\n",
    "    try:\n",
    "        temp = float(temp)\n",
    "    except ValueError:\n",
    "        print(\"Sayısal bir değer girmeniz gerekli!!!\")\n",
    "        continue\n",
    "    else:\n",
    "        break\n"
   ]
  },
  {
   "cell_type": "markdown",
   "id": "50605066",
   "metadata": {},
   "source": [
    "# Döngüler\n",
    "\n",
    "- Koşula bağlı döngüler (while)\n",
    "- iterasyon döngüler (for)"
   ]
  },
  {
   "cell_type": "code",
   "execution_count": 3,
   "id": "9a86fe81",
   "metadata": {},
   "outputs": [
    {
     "name": "stdout",
     "output_type": "stream",
     "text": [
      "Hastamızın ateşi 38.3\n",
      "Hastanın Ateşi normal değil\n",
      "SIRS Skoru: 1\n"
     ]
    }
   ],
   "source": [
    "print (\"Hastamızın ateşi {}\".format(temp))\n",
    "if (temp > 38.0 or temp <36.0):\n",
    "    SIRS_SKOR += 1\n",
    "    print(\"Hastanın Ateşi normal değil\")\n",
    "    print(\"SIRS Skoru:\", SIRS_SKOR)"
   ]
  },
  {
   "cell_type": "code",
   "execution_count": 4,
   "id": "b8028aa7",
   "metadata": {},
   "outputs": [
    {
     "name": "stdout",
     "output_type": "stream",
     "text": [
      "Hastanın nabız80\n"
     ]
    }
   ],
   "source": [
    "while True: \n",
    "    heart_rate = input(\"Hastanın nabız\")\n",
    "    try:\n",
    "        heart_rate = float(heart_rate)\n",
    "    except ValueError:\n",
    "        print(\"Sayısal bir değer girmeniz gerekli!!!\")\n",
    "        continue\n",
    "    else:\n",
    "        break"
   ]
  },
  {
   "cell_type": "code",
   "execution_count": 5,
   "id": "b46ab8f6",
   "metadata": {},
   "outputs": [
    {
     "name": "stdout",
     "output_type": "stream",
     "text": [
      "Hastamızın nabzı 80.0\n",
      "Hastanın nabzı normal\n",
      "SIRS Skoru: 1\n"
     ]
    }
   ],
   "source": [
    "print(\"Hastamızın nabzı {}\".format(heart_rate))\n",
    "if (heart_rate>90):\n",
    "    SIRS_SKOR += 1\n",
    "    print(\"Hastanın nabzı anormal\")\n",
    "    print(\"SIRS Skoru:\", SIRS_SKOR)\n",
    "else:\n",
    "    print(\"Hastanın nabzı normal\")\n",
    "    print(\"SIRS Skoru:\", SIRS_SKOR)\n",
    "    \n",
    "    \n",
    "    "
   ]
  },
  {
   "cell_type": "markdown",
   "id": "46957815",
   "metadata": {},
   "source": [
    "# Fonksiyon Tanımlama\n"
   ]
  },
  {
   "cell_type": "code",
   "execution_count": 8,
   "id": "4bc456c7",
   "metadata": {},
   "outputs": [],
   "source": [
    "def toplam():\n",
    "    sayi1 = int(input(\"Bir Sayı giriniz\"))\n",
    "    sayi2 = int(input(\"Bir Sayı giriniz\"))\n",
    "    toplam = sayi1 + sayi2\n",
    "    print(\"{} + {} = {}\".format(sayi1,sayi2,toplam))"
   ]
  },
  {
   "cell_type": "code",
   "execution_count": 9,
   "id": "8a6b3945",
   "metadata": {},
   "outputs": [
    {
     "name": "stdout",
     "output_type": "stream",
     "text": [
      "Bir Sayı giriniz23\n",
      "Bir Sayı giriniz34\n",
      "23 + 34 = 57\n"
     ]
    }
   ],
   "source": [
    "toplam()"
   ]
  },
  {
   "cell_type": "code",
   "execution_count": 10,
   "id": "4be297e6",
   "metadata": {},
   "outputs": [
    {
     "name": "stdout",
     "output_type": "stream",
     "text": [
      "Bir Sayı giriniz12\n",
      "Bir Sayı giriniz34\n",
      "12 + 34 = 46\n"
     ]
    }
   ],
   "source": [
    "toplam()"
   ]
  },
  {
   "cell_type": "code",
   "execution_count": 11,
   "id": "58fcd095",
   "metadata": {},
   "outputs": [
    {
     "name": "stdout",
     "output_type": "stream",
     "text": [
      "6\n"
     ]
    }
   ],
   "source": [
    "def carpim(sayi1,sayi2):\n",
    "        return sayi1 * sayi2 \n",
    "print(carpim(2,3))"
   ]
  },
  {
   "cell_type": "code",
   "execution_count": 12,
   "id": "2c0c927e",
   "metadata": {},
   "outputs": [],
   "source": [
    "sonuc = carpim(56,7) "
   ]
  },
  {
   "cell_type": "code",
   "execution_count": 13,
   "id": "11d13efd",
   "metadata": {},
   "outputs": [
    {
     "name": "stdout",
     "output_type": "stream",
     "text": [
      "392\n"
     ]
    }
   ],
   "source": [
    "print(sonuc)"
   ]
  },
  {
   "cell_type": "code",
   "execution_count": 14,
   "id": "0a2531cc",
   "metadata": {},
   "outputs": [
    {
     "name": "stdout",
     "output_type": "stream",
     "text": [
      "Hastanın solunum hızı19\n"
     ]
    }
   ],
   "source": [
    "while True: \n",
    "    respiration_rate = input(\"Hastanın solunum hızı\")\n",
    "    try:\n",
    "        respiration_rate = int(respiration_rate)\n",
    "    except ValueError:\n",
    "        print(\"Sayısal bir değer girmeniz gerekli!!!\")\n",
    "        continue\n",
    "    else:\n",
    "        break"
   ]
  },
  {
   "cell_type": "code",
   "execution_count": 15,
   "id": "2eb61fcb",
   "metadata": {},
   "outputs": [
    {
     "name": "stdout",
     "output_type": "stream",
     "text": [
      "Hastanın PaCO231\n"
     ]
    }
   ],
   "source": [
    "while True: \n",
    "    PaCO2 = input(\"Hastanın PaCO2\")\n",
    "    try:\n",
    "        PaCO2 = int(PaCO2)\n",
    "    except ValueError:\n",
    "        print(\"Sayısal bir değer girmeniz gerekli!!!\")\n",
    "        continue\n",
    "    else:\n",
    "        break"
   ]
  },
  {
   "cell_type": "code",
   "execution_count": 17,
   "id": "f5c6ee40",
   "metadata": {},
   "outputs": [
    {
     "name": "stdout",
     "output_type": "stream",
     "text": [
      "Hastamızın dakikadaki solunum hızı19 ve PaCO2'si 31\n",
      "Hastanın Solunum hıza veya PaCO2'sı anormal\n",
      "SIRS Skoru: 2\n"
     ]
    }
   ],
   "source": [
    "print(\"Hastamızın dakikadaki solunum hızı{} ve PaCO2'si {}\".format(respiration_rate,PaCO2))\n",
    "if (respiration_rate > 20 or PaCO2 < 32 ):\n",
    "    SIRS_SKOR += 1\n",
    "    print(\"Hastanın Solunum hıza veya PaCO2'sı anormal\")\n",
    "    print(\"SIRS Skoru:\", SIRS_SKOR)\n",
    "else:\n",
    "    print(\"Hastanın Solunum hıza veya PaCO2'sı normal\")\n",
    "    print(\"SIRS Skoru:\", SIRS_SKOR)"
   ]
  },
  {
   "cell_type": "code",
   "execution_count": 18,
   "id": "a69e7604",
   "metadata": {},
   "outputs": [
    {
     "name": "stdout",
     "output_type": "stream",
     "text": [
      "Beyaz Kan hücresi sayısı nedir? 22\n"
     ]
    }
   ],
   "source": [
    "while True: \n",
    "    wbc = input(\"Beyaz Kan hücresi sayısı nedir? \")\n",
    "    try:\n",
    "        wbc = int(wbc)\n",
    "    except ValueError:\n",
    "        print(\"Sayısal bir değer girmeniz gerekli!!!\")\n",
    "        continue\n",
    "    else:\n",
    "        break"
   ]
  },
  {
   "cell_type": "code",
   "execution_count": 19,
   "id": "f23fd2b8",
   "metadata": {},
   "outputs": [
    {
     "name": "stdout",
     "output_type": "stream",
     "text": [
      "Hastamızın beyaz kan hücresi sayım sonucu (x1000)\n",
      "Hastanın Beyaz Kan hücresi anormal\n",
      "SIRS Skoru: 3\n"
     ]
    }
   ],
   "source": [
    "print(\"Hastamızın beyaz kan hücresi sayım sonucu (x1000)\")\n",
    "if wbc > 12 or wbc <4:\n",
    "    SIRS_SKOR += 1\n",
    "    print(\"Hastanın Beyaz Kan hücresi anormal\")\n",
    "    print(\"SIRS Skoru:\", SIRS_SKOR)\n",
    "else:\n",
    "    print(\"Hastanın Beyaz Kan hücresi normal\")\n",
    "    print(\"SIRS Skoru:\", SIRS_SKOR)\n",
    "    "
   ]
  },
  {
   "cell_type": "code",
   "execution_count": 20,
   "id": "0eef0c50",
   "metadata": {
    "slideshow": {
     "slide_type": "slide"
    }
   },
   "outputs": [
    {
     "name": "stdout",
     "output_type": "stream",
     "text": [
      "Toplam SIRS Skorumuz: 3\n",
      "Hasta SIRS kriterlerini sağlamaktadır\n"
     ]
    }
   ],
   "source": [
    "print(\"Toplam SIRS Skorumuz:\", SIRS_SKOR)\n",
    "if SIRS_SKOR >= 2:\n",
    "    print(\"Hasta SIRS kriterlerini sağlamaktadır\")\n",
    "else:\n",
    "    print(\"Hasta SIRS kriterlerini sağlamamaktadır\")\n",
    "    "
   ]
  },
  {
   "cell_type": "code",
   "execution_count": null,
   "id": "6842876d",
   "metadata": {},
   "outputs": [],
   "source": []
  }
 ],
 "metadata": {
  "kernelspec": {
   "display_name": "Python 3 (ipykernel)",
   "language": "python",
   "name": "python3"
  },
  "language_info": {
   "codemirror_mode": {
    "name": "ipython",
    "version": 3
   },
   "file_extension": ".py",
   "mimetype": "text/x-python",
   "name": "python",
   "nbconvert_exporter": "python",
   "pygments_lexer": "ipython3",
   "version": "3.9.12"
  }
 },
 "nbformat": 4,
 "nbformat_minor": 5
}
