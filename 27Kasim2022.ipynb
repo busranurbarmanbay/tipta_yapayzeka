{
 "cells": [
  {
   "cell_type": "markdown",
   "id": "ffd78b89",
   "metadata": {},
   "source": [
    "# Python ile Programlama\n",
    "\n",
    "### 27 Kasım 2022\n",
    "\n",
    "## Veri Tipleri 2, Koşul Yapıları, Döngüler"
   ]
  },
  {
   "cell_type": "markdown",
   "id": "a2f455c4",
   "metadata": {},
   "source": [
    "### Veri Tip Dönüşümleri"
   ]
  },
  {
   "cell_type": "code",
   "execution_count": 2,
   "id": "8eeaf0c3",
   "metadata": {},
   "outputs": [
    {
     "name": "stdout",
     "output_type": "stream",
     "text": [
      "isminizi giriniz:Murat\n",
      "Murat\n"
     ]
    }
   ],
   "source": [
    "isim = input(\"isminizi giriniz:\")\n",
    "print(isim)"
   ]
  },
  {
   "cell_type": "code",
   "execution_count": 3,
   "id": "e862b79a",
   "metadata": {},
   "outputs": [
    {
     "data": {
      "text/plain": [
       "str"
      ]
     },
     "execution_count": 3,
     "metadata": {},
     "output_type": "execute_result"
    }
   ],
   "source": [
    "type(isim)"
   ]
  },
  {
   "cell_type": "markdown",
   "id": "57a1451e",
   "metadata": {},
   "source": [
    "sayi1 = float(input(\"Bir sayı giriniz:\"))\n",
    "sayi2 = int(input(\"Bir sayı giriniz:\"))\n",
    "toplam = sayi1 + sayi2 # + toplama işlemi \n",
    "print(toplam)"
   ]
  },
  {
   "cell_type": "markdown",
   "id": "eb93aa88",
   "metadata": {},
   "source": [
    "# Aritmetik Operatörler\n",
    "\n",
    "-  \\+ toplama\n",
    "- \\- çıkartma\n",
    "- \\* çarpma\n",
    "- / bölme\n",
    "- % mod alma işleme\n",
    "- // tam kısım bölme işlme\n",
    "- ** üs "
   ]
  },
  {
   "cell_type": "code",
   "execution_count": 20,
   "id": "cfe3de65",
   "metadata": {},
   "outputs": [
    {
     "name": "stdout",
     "output_type": "stream",
     "text": [
      "9850501549098619803069760025035903451269934817616361666987073351061430442874302652853566563721228910201656997576704\n"
     ]
    }
   ],
   "source": [
    "print(2**382)"
   ]
  },
  {
   "cell_type": "markdown",
   "id": "b8784348",
   "metadata": {},
   "source": [
    "- sabit / değişkenleri tanımladım\n",
    "- girdiler\n",
    "- işlemler \n",
    "- çıktı \n"
   ]
  },
  {
   "cell_type": "markdown",
   "id": "b5999a5c",
   "metadata": {},
   "source": [
    "## Programlamada Akış\n",
    "\n",
    "#### Mantıksal Değerler (Boolean)\n",
    "\n",
    "Mantıksal değerler ya da ingilizce ismiyle boolean değerler aslında Pythonda bir veri tipidir ve iki değere sahiplerdir: <b>True</b> ve <b>False</b>."
   ]
  },
  {
   "cell_type": "code",
   "execution_count": 22,
   "id": "00ce034a",
   "metadata": {},
   "outputs": [
    {
     "name": "stdout",
     "output_type": "stream",
     "text": [
      " Sisteme hosgeldiniz\n",
      "sisteme giriş için 15 yaş üstü olmanız gerekir\n",
      "\n",
      "\n",
      "Yaşınız 15\n"
     ]
    }
   ],
   "source": [
    "yas = 15\n",
    "print(\"\"\" Sisteme hosgeldiniz\n",
    "sisteme giriş için 15 yaş üstü olmanız gerekir\n",
    "\n",
    "\"\"\")\n",
    "print (\"Yaşınız {}\".format(yas))"
   ]
  },
  {
   "cell_type": "markdown",
   "id": "2b3f72c7",
   "metadata": {},
   "source": [
    "### İlişkisel Operatörler (Relational Operators)\n",
    "<table>\n",
    "    <tr><td><b>İşlec</td><td><b>Anlamı</td></tr>\n",
    "    <tr><td>&gt;</td><td>büyüktür</td></tr>\n",
    "    <tr><td>&lt;</td><td>küçüktür</td></tr>\n",
    "    <tr><td>&gt;=</td><td>büyük eşittir</td></tr>\n",
    "    <tr><td>&lt;=</td><td>küçük eşittir</td></tr>\n",
    "    <tr><td>==</td><td>eşittir</td></tr>\n",
    "    <tr><td>!=</td><td>eşit değildir</td></tr>\n",
    " </table>\n",
    " \n",
    "Pythonda eğer bir değişkenin değerini sonradan belirlemek isterseniz geçici olarak bu değişken **None** (atanmamış anlamında) değerine eşitleyebilirsiniz."
   ]
  },
  {
   "cell_type": "code",
   "execution_count": 34,
   "id": "f620e28a",
   "metadata": {},
   "outputs": [
    {
     "name": "stdout",
     "output_type": "stream",
     "text": [
      "6.2\n",
      "<class 'str'>\n"
     ]
    }
   ],
   "source": [
    "a = \"6.2\"\n",
    "print(a)\n",
    "print(type(a))"
   ]
  },
  {
   "cell_type": "code",
   "execution_count": 41,
   "id": "2926e706",
   "metadata": {},
   "outputs": [
    {
     "name": "stdout",
     "output_type": "stream",
     "text": [
      "\"ç\" < \"d\" False\n"
     ]
    }
   ],
   "source": [
    "print('\"ç\" < \"d\"',\"ç\" < \"d\")"
   ]
  },
  {
   "cell_type": "markdown",
   "id": "aceeed32",
   "metadata": {},
   "source": [
    "## Kontrol Akışı : Durumsal Değerlendirmeler\n",
    "\n",
    "### if (If-Else Statement)\n",
    "Python programlama dilinde koşullu durumları belirtmek için üç adet deyimden yararlanıyoruz:\n",
    "\n",
    "<li> if\n",
    "<li> else\n",
    "<li> elif\n",
    "    \n",
    "### if kullanımı\n",
    "\n",
    "if (koşul):\n",
    "    \n",
    "    koşul sağlanıyorsa gerçekleşecek işlem"
   ]
  },
  {
   "cell_type": "code",
   "execution_count": 46,
   "id": "472a0214",
   "metadata": {},
   "outputs": [
    {
     "name": "stdout",
     "output_type": "stream",
     "text": [
      "a'nın değeri 4 b'nin değeri 4\n",
      "a ile b birbirine eşittir\n",
      "if bloğunu geçtim\n"
     ]
    }
   ],
   "source": [
    "a=4\n",
    "b=4\n",
    "print(\"a'nın değeri\",a,\"b'nin değeri\",b)\n",
    "if a==b: #True olursa işler\n",
    "    print(\"a ile b birbirine eşittir\")\n",
    "print(\"if bloğunu geçtim\")"
   ]
  },
  {
   "cell_type": "code",
   "execution_count": 47,
   "id": "6910d586",
   "metadata": {},
   "outputs": [
    {
     "name": "stdout",
     "output_type": "stream",
     "text": [
      "Bir sayı giriniz: 12\n",
      "Girdiğiniz sayı 10'dan büyüktür!\n",
      "girdiğiniz sayının tipi: <class 'int'>\n"
     ]
    }
   ],
   "source": [
    "sayı = int(input(\"Bir sayı giriniz: \"))\n",
    "if sayı > 10:\n",
    "    print(\"Girdiğiniz sayı 10'dan büyüktür!\")\n",
    "if sayı < 10:\n",
    "    print(\"Girdiğiniz sayı 10'dan küçüktür!\")\n",
    "if sayı == 10:\n",
    "    print(\"Girdiğiniz sayı 10'dur!\")\n",
    "print(\"girdiğiniz sayının tipi:\",type(sayı))"
   ]
  },
  {
   "cell_type": "markdown",
   "id": "a62591d7",
   "metadata": {},
   "source": [
    "### if else: kullanımı\n",
    "\n",
    "<b>if</b> koşul: # koşul dediğimiz şey bize ya True ya da False(Boolean) döndürmeli\n",
    "    #koşul True ise Yapılacaklar\n",
    " \n",
    "<b>else:</b>\n",
    "    #koşul False ise Yapılacaklar"
   ]
  },
  {
   "cell_type": "code",
   "execution_count": 54,
   "id": "a5a984f9",
   "metadata": {},
   "outputs": [
    {
     "name": "stdout",
     "output_type": "stream",
     "text": [
      "x negatif\n"
     ]
    }
   ],
   "source": [
    "x=-99999\n",
    "\n",
    "if x >= 0: # Buradaki durumumuz(x>=0) olmadığı sürece burası \n",
    "# False dönecek ve derleyicimiz direkt else'teki koda geçecektir.\n",
    "    print (\"x pozitif\")\n",
    "else:\n",
    "    print (\"x negatif\")"
   ]
  },
  {
   "cell_type": "code",
   "execution_count": 63,
   "id": "0caf69b4",
   "metadata": {},
   "outputs": [
    {
     "name": "stdout",
     "output_type": "stream",
     "text": [
      "Kullanıcı Adınız Doğru sisteme girdiniz\n"
     ]
    }
   ],
   "source": [
    "kullanici_adi = \"Murat\"\n",
    "parola = \"12345\"\n",
    "\n",
    "if kullanici_adi == \"Murat\":\n",
    "    print(\"Kullanıcı Adınız Doğru sisteme girdiniz\")\n",
    "else:\n",
    "    print(\"Hatalı giriş yaptınız\")"
   ]
  },
  {
   "cell_type": "markdown",
   "id": "e44e36e7",
   "metadata": {},
   "source": [
    "## Mantıksal Bağlaçlar\n",
    "\n",
    "### and (ve) Operatörü\n",
    "\n",
    "Bu mantıksal bağlaç, bütün karşılaştırma işlemlerinin sonucunun True olmasına bakar. Bağlanan karşılaştırma işlemlerinin hepsinin kendi içinde sonucu True ise genel sonuç True , diğer durumlarda ise sonuç False çıkar.\n",
    "\n",
    "### or (veya) Operatörü\n",
    "\n",
    "Bu mantıksal bağlaç, bütün karşılaştırma işlemlerinin sonuçlarından en az birinin True olmasına bakar. Bağlanan karşılaştırma işlemlerinin en az birinin Trueolmasında genel sonuç True , diğer durumlarda ise sonuç False çıkar.\n",
    "\n",
    "### not (değil) operatörü\n",
    "\n",
    "not operatörü aslında bir mantıksal bağlaç değildir. Bu operatör sadece bir mantıksal değeri veya karşılaştırma işlemininin tam tersi sonuca çevirir. Yani, not operatörü True olan bir sonucu False , False olan bir sonucu True sonucuna çevirir. "
   ]
  },
  {
   "cell_type": "code",
   "execution_count": 66,
   "id": "c0b207c7",
   "metadata": {},
   "outputs": [
    {
     "name": "stdout",
     "output_type": "stream",
     "text": [
      "Hatalı giriş yaptınız\n"
     ]
    }
   ],
   "source": [
    "kullanici_adi = \"murat\"\n",
    "parola = \"12345\"\n",
    "\n",
    "if kullanici_adi == \"Murat\" and parola == \"12345\" :\n",
    "    print(\"Kullanıcı Adınız ve parolanız Doğru sisteme girdiniz\")\n",
    "else:\n",
    "    print(\"Hatalı giriş yaptınız\")"
   ]
  },
  {
   "cell_type": "code",
   "execution_count": 75,
   "id": "1133b2ef",
   "metadata": {},
   "outputs": [
    {
     "name": "stdout",
     "output_type": "stream",
     "text": [
      "Başka Hastalığa bak\n"
     ]
    }
   ],
   "source": [
    "ates = 1\n",
    "yorgunluk  =1 \n",
    "kuru_oksuruk = 0\n",
    "solunum_zorlugu = 0\n",
    "oksuruk = 0\n",
    "agri = 1\n",
    "hapsirma = 1\n",
    "burun_akintisi = 1\n",
    "burun_tikanikligi = 1\n",
    "gozlerde_sulanma = 0\n",
    "bogaz_agrisi  = 1\n",
    "ishal = 0\n",
    "\n",
    "if ates == 1 and yorgunluk ==1 and kuru_oksuruk==1 and solunum_zorlugu == 1 and oksuruk == 1 and agri == 1 and hapsirma == 0 and burun_akintisi == 1 and burun_tikanikligi == 0 and gozlerde_sulanma == 0 and bogaz_agrisi ==1 and ishal == 1:\n",
    "    print(\"Covid-19 ihtimali var\")\n",
    "elif ates == 1 and yorgunluk ==1 and kuru_oksuruk==0 and solunum_zorlugu == 0 and oksuruk == 0 and agri == 1 and hapsirma == 1 and burun_akintisi == 0 and burun_tikanikligi == 1 and gozlerde_sulanma == 0 and bogaz_agrisi ==1 and ishal == 0:\n",
    "    print(\"Soğuk Algınlığı ihtimali var\")\n",
    "else:\n",
    "    print(\"Başka Hastalığa bak\")\n",
    "\n",
    "\n",
    "\n",
    "\n",
    "\n",
    "\n"
   ]
  },
  {
   "cell_type": "markdown",
   "id": "5d62fcd5",
   "metadata": {},
   "source": [
    "### if  elif kullanımı\n",
    "\n",
    "<b>if</b> koşul1: # koşul dediğimiz şey bize ya True ya da False(Boolean) döndürmeli\n",
    "    #koşul1 True ise Yapılacaklar\n",
    " \n",
    "<b>elif koşul2:</b>\n",
    "    #koşul2 True ise Yapılacaklar"
   ]
  },
  {
   "cell_type": "code",
   "execution_count": null,
   "id": "22329185",
   "metadata": {},
   "outputs": [],
   "source": []
  },
  {
   "cell_type": "code",
   "execution_count": null,
   "id": "e4a4074c",
   "metadata": {},
   "outputs": [],
   "source": []
  },
  {
   "cell_type": "markdown",
   "id": "913ab04f",
   "metadata": {},
   "source": [
    "**Pythonda Nesned If Blokları**\n",
    "\n",
    "Bir if bloğu içerisinde başka bir if bloğunu başlatabiliriz."
   ]
  },
  {
   "cell_type": "code",
   "execution_count": null,
   "id": "dc60923f",
   "metadata": {},
   "outputs": [],
   "source": []
  }
 ],
 "metadata": {
  "kernelspec": {
   "display_name": "Python 3 (ipykernel)",
   "language": "python",
   "name": "python3"
  },
  "language_info": {
   "codemirror_mode": {
    "name": "ipython",
    "version": 3
   },
   "file_extension": ".py",
   "mimetype": "text/x-python",
   "name": "python",
   "nbconvert_exporter": "python",
   "pygments_lexer": "ipython3",
   "version": "3.9.12"
  }
 },
 "nbformat": 4,
 "nbformat_minor": 5
}
