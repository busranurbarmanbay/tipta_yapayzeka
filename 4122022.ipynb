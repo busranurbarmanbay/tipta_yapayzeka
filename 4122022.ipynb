{
 "cells": [
  {
   "cell_type": "markdown",
   "id": "ec9f1710",
   "metadata": {},
   "source": [
    "## Dizi\n",
    "- sayi_dizi = 1,2,3,4,5\n",
    "- sayi_dizi = 2.3,0.34,0.56\n",
    "- karakter_dizisi =\"Merhaba Dünya!!!\"\n",
    "- karakter_dizisi = \"A\",\"b\",\"G\",'c','d'\n",
    "\n",
    "## Liste\n",
    "\n",
    "- meyve_listesi=[\"Elma\",\"Armut,\"Çilek\"] #string listesi\n",
    "- liste = [1,2,3,4.5,\"dünya\",[\"Elma\",\"Armut,\"Çilek\"]]"
   ]
  },
  {
   "cell_type": "code",
   "execution_count": 1,
   "id": "afeca13b",
   "metadata": {},
   "outputs": [],
   "source": [
    "liste = [1,2,3,4.5,\"dünya\",[\"Elma\",\"Armut\",\"Çilek\"]]"
   ]
  },
  {
   "cell_type": "code",
   "execution_count": 2,
   "id": "de7545d0",
   "metadata": {},
   "outputs": [
    {
     "name": "stdout",
     "output_type": "stream",
     "text": [
      "[1, 2, 3, 4.5, 'dünya', ['Elma', 'Armut', 'Çilek']]\n"
     ]
    }
   ],
   "source": [
    "print(liste)"
   ]
  },
  {
   "cell_type": "code",
   "execution_count": 3,
   "id": "0a2abe55",
   "metadata": {},
   "outputs": [
    {
     "name": "stdout",
     "output_type": "stream",
     "text": [
      "n\n"
     ]
    }
   ],
   "source": [
    "print(liste[4][2])"
   ]
  },
  {
   "cell_type": "code",
   "execution_count": 4,
   "id": "eb366943",
   "metadata": {},
   "outputs": [
    {
     "data": {
      "text/plain": [
       "list"
      ]
     },
     "execution_count": 4,
     "metadata": {},
     "output_type": "execute_result"
    }
   ],
   "source": [
    "type(liste[5])"
   ]
  },
  {
   "cell_type": "code",
   "execution_count": 5,
   "id": "189a9baa",
   "metadata": {},
   "outputs": [
    {
     "name": "stdout",
     "output_type": "stream",
     "text": [
      "[4.5, 'dünya']\n"
     ]
    }
   ],
   "source": [
    "print(liste[3:5])"
   ]
  },
  {
   "cell_type": "markdown",
   "id": "5b2c1f9d",
   "metadata": {},
   "source": [
    "## Listeye Eleman Ekleme\n",
    "\n",
    "- append  listenin sonuna eleman ekleme\n",
    "- insert  liste belirli indisine elemena ekleme için kulllanılır"
   ]
  },
  {
   "cell_type": "code",
   "execution_count": 6,
   "id": "ad6e1dc2",
   "metadata": {},
   "outputs": [
    {
     "name": "stdout",
     "output_type": "stream",
     "text": [
      "[1, 3, 4, 5, 6, 7, 8, 9]\n"
     ]
    }
   ],
   "source": [
    "liste = [1,3,4,5,6,7,8,9]\n",
    "print(liste)"
   ]
  },
  {
   "cell_type": "code",
   "execution_count": 7,
   "id": "a6118004",
   "metadata": {},
   "outputs": [
    {
     "name": "stdout",
     "output_type": "stream",
     "text": [
      "[1, 3, 4, 5, 6, 7, 8, 9, 10]\n"
     ]
    }
   ],
   "source": [
    "liste.append(10)\n",
    "print(liste)"
   ]
  },
  {
   "cell_type": "code",
   "execution_count": 8,
   "id": "39bc71fc",
   "metadata": {},
   "outputs": [
    {
     "name": "stdout",
     "output_type": "stream",
     "text": [
      "[1, 2, 3, 4, 5, 6, 7, 8, 9, 10]\n"
     ]
    }
   ],
   "source": [
    "liste.insert(1,2)\n",
    "print(liste)"
   ]
  },
  {
   "cell_type": "code",
   "execution_count": 10,
   "id": "ac318d60",
   "metadata": {},
   "outputs": [
    {
     "name": "stdout",
     "output_type": "stream",
     "text": [
      "10\n"
     ]
    }
   ],
   "source": [
    "print(len(liste))"
   ]
  },
  {
   "cell_type": "code",
   "execution_count": 11,
   "id": "f847e2e3",
   "metadata": {},
   "outputs": [
    {
     "name": "stdout",
     "output_type": "stream",
     "text": [
      "1\n"
     ]
    }
   ],
   "source": [
    "print(liste.count(8))"
   ]
  },
  {
   "cell_type": "code",
   "execution_count": 12,
   "id": "392703e3",
   "metadata": {},
   "outputs": [],
   "source": [
    "liste1 = [1,3,4,5,6,7,8,9]\n",
    "liste2 = [\"a\",\"b\",\"c\",\"d\",\"d\",\"c\",\"c\",\"d\"]"
   ]
  },
  {
   "cell_type": "markdown",
   "id": "6e4b539a",
   "metadata": {},
   "source": [
    "### Python dilinde koleksiyonlar\n",
    "list(liste), tupple(demet), dictionary (sözlük), set(küme)\n",
    "\n",
    "mutable: list(liste),dictionary (sözlük),set(küme)\n",
    "inmutable: tupple(demet)"
   ]
  },
  {
   "cell_type": "code",
   "execution_count": 13,
   "id": "a5c6ff0c",
   "metadata": {},
   "outputs": [
    {
     "name": "stdout",
     "output_type": "stream",
     "text": [
      "[1, 3, 4, 5, 6, 7, 8, 9]\n",
      "[1, 3, 4, 5, 6, 7, 8, 9, 'a', 'b', 'c', 'd', 'd', 'c', 'c', 'd']\n"
     ]
    }
   ],
   "source": [
    "print(liste1)\n",
    "liste1.extend(liste2)\n",
    "print(liste1)"
   ]
  },
  {
   "cell_type": "code",
   "execution_count": 14,
   "id": "2bd6ef4e",
   "metadata": {},
   "outputs": [
    {
     "name": "stdout",
     "output_type": "stream",
     "text": [
      "[1, 3, 4, 5, 6, 7, 8, 9, 'a', 'b', 'c', 'd', 'd', 'c', 'c', 'd']\n"
     ]
    }
   ],
   "source": [
    "print(liste1)"
   ]
  },
  {
   "cell_type": "code",
   "execution_count": 15,
   "id": "251a9b0d",
   "metadata": {},
   "outputs": [
    {
     "name": "stdout",
     "output_type": "stream",
     "text": [
      "3\n"
     ]
    }
   ],
   "source": [
    "print(liste1.count('d'))"
   ]
  },
  {
   "cell_type": "code",
   "execution_count": 16,
   "id": "5dea1427",
   "metadata": {},
   "outputs": [
    {
     "name": "stdout",
     "output_type": "stream",
     "text": [
      "['a', 'b', 'c', 'd', 'd', 'c', 'c', 'd']\n"
     ]
    }
   ],
   "source": [
    "print(liste2)"
   ]
  },
  {
   "cell_type": "code",
   "execution_count": 17,
   "id": "cc9a8028",
   "metadata": {},
   "outputs": [
    {
     "name": "stdout",
     "output_type": "stream",
     "text": [
      "['a', 'b', 'c', 'd', 'd', 'c', 'c', 'd', 1, 3, 4, 5, 6, 7, 8, 9, 'a', 'b', 'c', 'd', 'd', 'c', 'c', 'd']\n"
     ]
    }
   ],
   "source": [
    "liste2 = liste2 + liste1\n",
    "print(liste2)"
   ]
  },
  {
   "cell_type": "code",
   "execution_count": 18,
   "id": "7545e739",
   "metadata": {},
   "outputs": [
    {
     "name": "stdout",
     "output_type": "stream",
     "text": [
      "[1, 3, 4, 5, 6, 7, 8, 9]\n"
     ]
    }
   ],
   "source": [
    "liste1 = [1,3,4,5,6,7,8,9]\n",
    "print(liste1)"
   ]
  },
  {
   "cell_type": "code",
   "execution_count": 19,
   "id": "a7755482",
   "metadata": {},
   "outputs": [
    {
     "name": "stdout",
     "output_type": "stream",
     "text": [
      "[9, 8, 7, 6, 5, 4, 3, 1]\n"
     ]
    }
   ],
   "source": [
    "liste1.reverse()\n",
    "print(liste1)"
   ]
  },
  {
   "cell_type": "code",
   "execution_count": 20,
   "id": "783802bb",
   "metadata": {},
   "outputs": [],
   "source": [
    "bos_liste = []"
   ]
  },
  {
   "cell_type": "code",
   "execution_count": 21,
   "id": "b6fe8799",
   "metadata": {},
   "outputs": [
    {
     "name": "stdout",
     "output_type": "stream",
     "text": [
      "[]\n"
     ]
    }
   ],
   "source": [
    "print(bos_liste)"
   ]
  },
  {
   "cell_type": "markdown",
   "id": "5475d4a5",
   "metadata": {},
   "source": [
    "# for döngüsü\n",
    "\n",
    "bir işlemin kaç kere yapıldığını bildiğimiz döngü türüdür"
   ]
  },
  {
   "cell_type": "code",
   "execution_count": 22,
   "id": "064a1a60",
   "metadata": {},
   "outputs": [
    {
     "name": "stdout",
     "output_type": "stream",
     "text": [
      "1\n",
      "3\n",
      "4\n",
      "5\n",
      "6\n",
      "7\n",
      "8\n",
      "9\n"
     ]
    }
   ],
   "source": [
    "liste1 = [1,3,4,5,6,7,8,9]\n",
    "for i in liste1:\n",
    "    print(i)"
   ]
  },
  {
   "cell_type": "code",
   "execution_count": 24,
   "id": "7c687d31",
   "metadata": {},
   "outputs": [
    {
     "name": "stdout",
     "output_type": "stream",
     "text": [
      "1. meyve: Elma\n",
      "2. meyve: Armut\n",
      "3. meyve: Muz\n",
      "4. meyve: Ananas\n",
      "5. meyve: Çilek\n"
     ]
    }
   ],
   "source": [
    "meyveler = [\"Elma\",\"Armut\",\"Muz\",\"Ananas\",\"Çilek\"]\n",
    "for i in range(len(meyveler)):        #range(ilk,son,adım) 0,1,2,3,4\n",
    "    print(f\"{i+1}. meyve: {meyveler[i]}\")"
   ]
  },
  {
   "cell_type": "code",
   "execution_count": 25,
   "id": "2d8c58c4",
   "metadata": {},
   "outputs": [
    {
     "name": "stdout",
     "output_type": "stream",
     "text": [
      "1. meyve: Elma\n",
      "2. meyve: Armut\n",
      "3. meyve: Muz\n",
      "4. meyve: Ananas\n",
      "5. meyve: Çilek\n"
     ]
    }
   ],
   "source": [
    "meyveler = [\"Elma\",\"Armut\",\"Muz\",\"Ananas\",\"Çilek\"]\n",
    "i = 0\n",
    "for meyve in meyveler:\n",
    "    i = i + 1\n",
    "    print(f\"{i}. meyve: {meyve}\")"
   ]
  },
  {
   "cell_type": "markdown",
   "id": "ca15ed55",
   "metadata": {},
   "source": [
    "# Veri Bilimi Paketler, Kütüphane\n",
    "\n",
    "## Numpy \n",
    "numeric python\n",
    "\n",
    "- skaler (tek sayı) 7\n",
    "- vektör (dizi) [3,6,7]\n",
    "- matris (2D) 2 3 5\n",
    "              5 6 7\n",
    "              7 9 10\n",
    "- tensor (nD) \n",
    "\n",
    "## Pandas\n",
    "excel, DataFrame, Seriler\n",
    "\n",
    "## matplotlib \n",
    "veri görselleştirme kütüphanesi\n",
    "\n",
    "## Seaborn, plotly \n",
    "\n",
    "## scikitlearn \n",
    "\n",
    "## Tensorflow ve Keras\n",
    "\n",
    "## Open CV \n",
    "\n",
    "## Scikit-image, Pillow"
   ]
  },
  {
   "cell_type": "code",
   "execution_count": 26,
   "id": "a7d3ae7c",
   "metadata": {},
   "outputs": [],
   "source": [
    "import numpy as np"
   ]
  },
  {
   "cell_type": "code",
   "execution_count": 28,
   "id": "ae429af8",
   "metadata": {},
   "outputs": [],
   "source": [
    "dizi = np.arange(6)"
   ]
  },
  {
   "cell_type": "code",
   "execution_count": 29,
   "id": "ad279b4e",
   "metadata": {},
   "outputs": [
    {
     "name": "stdout",
     "output_type": "stream",
     "text": [
      "[0 1 2 3 4 5]\n"
     ]
    }
   ],
   "source": [
    "print(dizi)"
   ]
  },
  {
   "cell_type": "code",
   "execution_count": 30,
   "id": "2fb46026",
   "metadata": {},
   "outputs": [
    {
     "data": {
      "text/plain": [
       "numpy.ndarray"
      ]
     },
     "execution_count": 30,
     "metadata": {},
     "output_type": "execute_result"
    }
   ],
   "source": [
    "type(dizi)"
   ]
  },
  {
   "cell_type": "code",
   "execution_count": 35,
   "id": "14327d5c",
   "metadata": {},
   "outputs": [],
   "source": [
    "from numpy import arange,reshape"
   ]
  },
  {
   "cell_type": "code",
   "execution_count": 36,
   "id": "55b4f38b",
   "metadata": {},
   "outputs": [],
   "source": [
    "a= arange(15)"
   ]
  },
  {
   "cell_type": "code",
   "execution_count": 37,
   "id": "835fbcc1",
   "metadata": {},
   "outputs": [
    {
     "name": "stdout",
     "output_type": "stream",
     "text": [
      "[ 0  1  2  3  4  5  6  7  8  9 10 11 12 13 14]\n"
     ]
    }
   ],
   "source": [
    "print(a)"
   ]
  },
  {
   "cell_type": "code",
   "execution_count": 38,
   "id": "9acf554a",
   "metadata": {},
   "outputs": [],
   "source": [
    "b = a.reshape(3,5) "
   ]
  },
  {
   "cell_type": "code",
   "execution_count": 39,
   "id": "04c9f6b1",
   "metadata": {},
   "outputs": [
    {
     "name": "stdout",
     "output_type": "stream",
     "text": [
      "[[ 0  1  2  3  4]\n",
      " [ 5  6  7  8  9]\n",
      " [10 11 12 13 14]]\n"
     ]
    }
   ],
   "source": [
    "print(b)"
   ]
  },
  {
   "cell_type": "code",
   "execution_count": 41,
   "id": "0185bbe9",
   "metadata": {},
   "outputs": [
    {
     "name": "stdout",
     "output_type": "stream",
     "text": [
      "Hastanın dakikadaki Kalp hızı  eee\n",
      "Sayısal bir değer girmediniz\n",
      "Hastanın dakikadaki Kalp hızı  44.5\n",
      "Sayısal bir değer girmediniz\n",
      "Hastanın dakikadaki Kalp hızı  33\n"
     ]
    }
   ],
   "source": [
    "while True:\n",
    "    heartRate = input(\"Hastanın dakikadaki Kalp hızı  \")\n",
    "    try:\n",
    "        heartRate = int(heartRate)\n",
    "    except:\n",
    "        print(\"Sayısal bir değer girmediniz\")\n",
    "        continue\n",
    "    else:\n",
    "        break"
   ]
  },
  {
   "cell_type": "code",
   "execution_count": 50,
   "id": "43e30309",
   "metadata": {},
   "outputs": [],
   "source": [
    "def sayisal_input(metin,tipi):\n",
    "    \"\"\"metin ekrana yazılacak bilgi , tipi integer , float\"\"\"\n",
    "    while True:\n",
    "        deger = input(metin)\n",
    "        try:\n",
    "            if tipi == \"int\":\n",
    "                deger = int(deger)\n",
    "            elif tipi ==\"float\":\n",
    "                deger = float(deger)\n",
    "            else:\n",
    "                tipi = input(\"Veri tipiniz (int)eger veya (float) türünde olmalı\")\n",
    "                raise ValueError(\"\")\n",
    "        except ValueError:\n",
    "            print(\"Sayısal bir değer girmediniz\")\n",
    "            continue\n",
    "        else:\n",
    "            return deger"
   ]
  },
  {
   "cell_type": "code",
   "execution_count": 51,
   "id": "9567c39b",
   "metadata": {},
   "outputs": [
    {
     "name": "stdout",
     "output_type": "stream",
     "text": [
      "Hastanın dakikadaki Kalp hızı  22\n",
      "Veri tipiniz (int)eger veya (float) türünde olmalıint\n",
      "Sayısal bir değer girmediniz\n",
      "Hastanın dakikadaki Kalp hızı  22\n"
     ]
    }
   ],
   "source": [
    "heartRate = sayisal_input(\"Hastanın dakikadaki Kalp hızı  \",\"ee\")"
   ]
  },
  {
   "cell_type": "code",
   "execution_count": 52,
   "id": "e116d0da",
   "metadata": {},
   "outputs": [
    {
     "name": "stdout",
     "output_type": "stream",
     "text": [
      "22\n"
     ]
    }
   ],
   "source": [
    "print(heartRate)"
   ]
  },
  {
   "cell_type": "code",
   "execution_count": 53,
   "id": "52dc2581",
   "metadata": {},
   "outputs": [
    {
     "name": "stdout",
     "output_type": "stream",
     "text": [
      "Help on function sayisal_input in module __main__:\n",
      "\n",
      "sayisal_input(metin, tipi)\n",
      "    metin ekrana yazılacak bilgi , tipi integer , float\n",
      "\n"
     ]
    }
   ],
   "source": [
    "help(sayisal_input)"
   ]
  },
  {
   "cell_type": "code",
   "execution_count": 54,
   "id": "fdc7d541",
   "metadata": {},
   "outputs": [
    {
     "name": "stdout",
     "output_type": "stream",
     "text": [
      "Help on built-in function print in module builtins:\n",
      "\n",
      "print(...)\n",
      "    print(value, ..., sep=' ', end='\\n', file=sys.stdout, flush=False)\n",
      "    \n",
      "    Prints the values to a stream, or to sys.stdout by default.\n",
      "    Optional keyword arguments:\n",
      "    file:  a file-like object (stream); defaults to the current sys.stdout.\n",
      "    sep:   string inserted between values, default a space.\n",
      "    end:   string appended after the last value, default a newline.\n",
      "    flush: whether to forcibly flush the stream.\n",
      "\n"
     ]
    }
   ],
   "source": [
    "help(print)"
   ]
  },
  {
   "cell_type": "code",
   "execution_count": null,
   "id": "04378c45",
   "metadata": {},
   "outputs": [],
   "source": [
    "murat.gezer@gmail.com"
   ]
  }
 ],
 "metadata": {
  "kernelspec": {
   "display_name": "Python 3 (ipykernel)",
   "language": "python",
   "name": "python3"
  },
  "language_info": {
   "codemirror_mode": {
    "name": "ipython",
    "version": 3
   },
   "file_extension": ".py",
   "mimetype": "text/x-python",
   "name": "python",
   "nbconvert_exporter": "python",
   "pygments_lexer": "ipython3",
   "version": "3.9.12"
  }
 },
 "nbformat": 4,
 "nbformat_minor": 5
}
